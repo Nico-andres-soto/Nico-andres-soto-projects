{
  "nbformat": 4,
  "nbformat_minor": 0,
  "metadata": {
    "colab": {
      "provenance": []
    },
    "kernelspec": {
      "name": "python3",
      "display_name": "Python 3"
    },
    "language_info": {
      "name": "python"
    }
  },
  "cells": [
    {
      "cell_type": "code",
      "execution_count": null,
      "metadata": {
        "id": "M10sBCt9bvaL"
      },
      "outputs": [],
      "source": [
        "#finite square well of quantum mechanics in python\n",
        "#now a crystal lattice of protons is essentially a sequence of wells, so if we can solve the schoringer equation for one well we can use approximation methods to get the\n",
        "#the energy eigenvalues for a sequence of wells\n",
        "#what we are gonna do is to solve the schrodinger equation and it's set up as where the hamiltonian is a tri-diagoanl matrix, which is a very large matrix as well\n",
        "#and this is a very efficient way for solving large matrices getting the eigenvalues which are the energies, and the eingenvectors which are the wave functions\n",
        "#we are gonna start reviewing the finite square well\n",
        "\n",
        "import numpy as np\n",
        "import matplotlib.pyplot as plt\n",
        "from scipy.linalg import eigh_tridiagonal"
      ]
    },
    {
      "cell_type": "markdown",
      "source": [
        "Get value of $V_o$ and energies corresponding to bound states ($E∈ [-V_o, 0] $).Note that $V_o= 36$ means that the actual potential energy is 36 times $ħ/(2ma^{2}$)"
      ],
      "metadata": {
        "id": "RGuSHcohbHnI"
      }
    },
    {
      "cell_type": "code",
      "source": [
        "V0 = 36\n",
        "E = np.linspace(-V0, 0, 100000)\n"
      ],
      "metadata": {
        "id": "KXkU3FswckZV"
      },
      "execution_count": null,
      "outputs": []
    },
    {
      "cell_type": "markdown",
      "source": [
        "Get the  right hand side (RHS) and left hand sides of the two equations above"
      ],
      "metadata": {
        "id": "PQihy5rrcyVK"
      }
    },
    {
      "cell_type": "code",
      "source": [
        "RHS = np.sqrt(-E)\n",
        "LHS1 = np.sqrt(E+V0)*np.tan(np.sqrt(E+V0))\n",
        "LHS2 = -np.sqrt(E+V0)/np.tan(np.sqrt(E+V0+1e-9))"
      ],
      "metadata": {
        "id": "lStgZn4f17pB"
      },
      "execution_count": null,
      "outputs": []
    },
    {
      "cell_type": "markdown",
      "source": [
        "Plot the curves. the energies correspond to the x values where the red curve (RHS) intersects with the left hand sides of the two equtions.\n"
      ],
      "metadata": {
        "id": "m2eQmJFT3m9m"
      }
    },
    {
      "cell_type": "code",
      "source": [
        "plt.figure(figsize=(6,3))\n",
        "plt.scatter(E, LHS1, s=1, color='blue')\n",
        "plt.scatter(E, LHS2, s=1, color='blue')\n",
        "plt.scatter(E, RHS, s=1, color='red')\n",
        "plt.ylim(-10,10)\n",
        "plt.grid(color = 'grey')\n",
        "plt.xlabel('$E$')\n",
        "plt.show()\n"
      ],
      "metadata": {
        "colab": {
          "base_uri": "https://localhost:8080/",
          "height": 231
        },
        "id": "_nxxyfGK3_au",
        "outputId": "5164abd5-7037-4ace-8a77-966897af2fb3"
      },
      "execution_count": null,
      "outputs": [
        {
          "output_type": "display_data",
          "data": {
            "text/plain": [
              "<Figure size 432x216 with 1 Axes>"
            ],
            "image/png": "[encoded data removed]"
          },
          "metadata": {
            "needs_background": "light"
          }
        }
      ]
    },
    {
      "cell_type": "markdown",
      "source": [
        "Thus we can see that there area 4 possible bound energy states in this finite square well. Lets solve fo the intersection points of these curves. Below, f1 corresponds to RHS-LHS1 and f2 corresponds to RHS-LHS2. The enrgies that make these expressions equal to zero correspond to the interaction points above.\n"
      ],
      "metadata": {
        "id": "gjr4KOzM5c5A"
      }
    },
    {
      "cell_type": "code",
      "source": [
        "def f1(E,V0):\n",
        "  return np.sqrt(E+V0)*np.tan(np.sqrt(E+V0))-np.sqrt(-E)\n",
        "def f2(E,V0, eps=1e-10): #We notice that we have this little epsilon here, this is a little numerical trick and I add kit here, is a very small number\n",
        "#but what it does is that stops the tang, cause i have a cotang here, which is one over tangent and this blows up when e is equal to negative V naught, cotangent of zero is infinity\n",
        "#and i don't want that, and so what I do is I add a little small number here and this sort of stops that from ocurring.\n",
        "  return np.sqrt(E+V0+eps)/np.tan(np.sqrt(E+V0+eps)) + np.sqrt(-E)\n"
      ],
      "metadata": {
        "id": "Tb4soweJ6xJB"
      },
      "execution_count": null,
      "outputs": []
    },
    {
      "cell_type": "markdown",
      "source": [
        "Plot f1 and f2 as a function of energy"
      ],
      "metadata": {
        "id": "Jq2zxFaB9cg5"
      }
    },
    {
      "cell_type": "code",
      "source": [
        "#we just plot this functions, and we look for the intersection points with zero, which corresponds to the bound energies\n",
        "\n",
        "plt.figure(figsize=(6,3))\n",
        "plt.scatter(E,f1(E,V0), s=1, color='blue')\n",
        "plt.scatter(E,f2(E,V0), s=1, color='blue')\n",
        "plt.grid(color='grey')\n",
        "plt.ylim(-10,10)\n",
        "plt.xlabel('$E$')\n",
        "plt.show()"
      ],
      "metadata": {
        "colab": {
          "base_uri": "https://localhost:8080/",
          "height": 231
        },
        "id": "AdopkcAGQdEA",
        "outputId": "0785347f-ee86-44a3-bf9b-4391fbbde350"
      },
      "execution_count": null,
      "outputs": [
        {
          "output_type": "display_data",
          "data": {
            "text/plain": [
              "<Figure size 432x216 with 1 Axes>"
            ],
            "image/png": "[encoded data removed]"
          },
          "metadata": {
            "needs_background": "light"
          }
        }
      ]
    },
    {
      "cell_type": "markdown",
      "source": [],
      "metadata": {
        "id": "ggmXdW1h77j1"
      }
    },
    {
      "cell_type": "markdown",
      "source": [
        "Now its set up so that the energies (x-values) corresponding to the locations where the clue curves above intersect y=0 are the bound energies of the system. The reason we do this is because the problem \"Find x so that f(x)=0\" is how things are done in a computer. This is done below:\n"
      ],
      "metadata": {
        "id": "kbSEFYtHAfTz"
      }
    },
    {
      "cell_type": "code",
      "source": [
        "f1s = f1(E, V0)\n",
        "f2s = f2(E, V0)\n",
        "\n",
        "zero_crossings_even = np.where(np.diff(np.sign(f1s)) * (np.abs(f1s[:-1])<3).astype(float))[0]\n",
        "zero_crossings_odd = np.where(np.diff(np.sign(f2s)) * (np.abs(f2s[:-1])<3).astype(float))[0]\n",
        "zero_crossings = np.sort(np.concatenate([zero_crossings_even, zero_crossings_odd]))\n",
        "Es_method1 =  (E[zero_crossings] + E[zero_crossings+1])/2"
      ],
      "metadata": {
        "id": "c0AOjnB9I2Hv"
      },
      "execution_count": null,
      "outputs": []
    },
    {
      "cell_type": "code",
      "source": [
        "E # so i have my energy array it is just a bunch of different energies it goes from negative 36 to zero (which is minus V0 to zero) and I want to find the points where\n",
        "#so the first thing we are gonna do is we are gonna take the sign of f1 (f1 is just part of the blue curves above), so if is negative the sign is negative one if it is positive\n",
        "#the sign is plus 0ne\n",
        "#np.sign(f1s)"
      ],
      "metadata": {
        "colab": {
          "base_uri": "https://localhost:8080/"
        },
        "id": "ZHKKbC_3GX7J",
        "outputId": "db927a09-d59a-4bf9-eb23-bf11df46a22d"
      },
      "execution_count": null,
      "outputs": [
        {
          "output_type": "execute_result",
          "data": {
            "text/plain": [
              "array([-3.600000e+01, -3.599964e+01, -3.599928e+01, ..., -7.200072e-04,\n",
              "       -3.600036e-04,  0.000000e+00])"
            ]
          },
          "metadata": {},
          "execution_count": 9
        }
      ]
    },
    {
      "cell_type": "code",
      "source": [
        "Es_method1"
      ],
      "metadata": {
        "colab": {
          "base_uri": "https://localhost:8080/"
        },
        "id": "AnQQqf42Taiq",
        "outputId": "5de849c5-7021-4f0d-e2de-d69b6daaa5ef"
      },
      "execution_count": null,
      "outputs": [
        {
          "output_type": "execute_result",
          "data": {
            "text/plain": [
              "array([-34.19152192, -28.82422824, -20.11322113,  -8.68922689])"
            ]
          },
          "metadata": {},
          "execution_count": 27
        }
      ]
    },
    {
      "cell_type": "markdown",
      "source": [
        "So the first excited state, for example, is E'_1 = -28.82. Following step 2 of the equtions set up in the report. the real enrgy is then; E_1 = -28.82 $ħ/(2ma^{2}$)\n"
      ],
      "metadata": {
        "id": "PvTxDG1ZU8Ma"
      }
    },
    {
      "cell_type": "markdown",
      "source": [
        "Solving Numerically\n",
        "\n"
      ],
      "metadata": {
        "id": "6LdENn8nUEas"
      }
    },
    {
      "cell_type": "markdown",
      "source": [
        "so first  i gonna discritize by using 10000 points in x they're gonna span from negative two to two, and remember the well goes from negative one to one, son I am a little bit including points outside the well as well.\n",
        "\n"
      ],
      "metadata": {
        "id": "iL0XRYRKU093"
      }
    },
    {
      "cell_type": "code",
      "source": [
        "N = 100000\n",
        "x = np.linspace(-3,3,N) #creates an array of 100000 values between -3 and 3 here we consider values that goes further than\n",
        "dx = np.diff(x)[0]  # we create an array with the difference between an element of the array with its subsequent, namely x=[2,6,5] ==> np.diff(x)=[4,-1], then we take the first value of the array\n",
        "#since we are talking about the x is spaced equaly then it is direct that the diff is the same value for each value of the array, hence it is possible to take the first elemet and used it\n"
      ],
      "metadata": {
        "colab": {
          "base_uri": "https://localhost:8080/"
        },
        "id": "XmyfDB3OXRZy",
        "outputId": "12ea2a0d-a9c7-4101-c9eb-4dcb60e98671"
      },
      "execution_count": null,
      "outputs": [
        {
          "output_type": "stream",
          "name": "stdout",
          "text": [
            "[-3.      -2.99994 -2.99988 ...  2.99988  2.99994  3.     ]\n"
          ]
        }
      ]
    },
    {
      "cell_type": "markdown",
      "source": [
        "Create the main diagonal and off diagonal of the tridiagonal matrix shown above. what you need to do is to define the main diagonal of your matrix."
      ],
      "metadata": {
        "id": "K6aIQ7UudRBn"
      }
    },
    {
      "cell_type": "code",
      "source": [
        "main_diag = 2*np.ones(N)/dx**2 -V0*((x>=-1)*(x<=1)).astype(float) # this is just a quick way of making the well in this problem\n",
        "off_diag =  -np.ones(N-1)/dx**2 # it is N-1 because it has one left element"
      ],
      "metadata": {
        "id": "o_rmoVX6dTH2"
      },
      "execution_count": null,
      "outputs": []
    },
    {
      "cell_type": "markdown",
      "source": [
        "Use the eigh_tridiagonal function from scipy to solve for the eigenvalues Es and eigenvectors psis of this matrix. Use the select_range option to only find eigenvalues in the given range (corresponding to bound states)"
      ],
      "metadata": {
        "id": "I1Ugs4TDf46g"
      }
    },
    {
      "cell_type": "code",
      "source": [
        "Es_method2, psis = eigh_tridiagonal(main_diag, off_diag, select='v', select_range=(-V0,0))"
      ],
      "metadata": {
        "id": "QT-EWfd-f7cq"
      },
      "execution_count": null,
      "outputs": []
    },
    {
      "cell_type": "markdown",
      "source": [
        "Plot a sample eigenfunction:"
      ],
      "metadata": {
        "id": "0I8LVa0LgEpW"
      }
    },
    {
      "cell_type": "code",
      "source": [
        "plt.figure(figsize=(6,3))\n",
        "plt.plot(x, np.abs(psis.T[0])**2)\n",
        "plt.plot(x, np.abs(psis.T[1])**2)\n",
        "plt.plot(x, np.abs(psis.T[2])**2)\n",
        "plt.plot(x, np.abs(psis.T[3])**2)\n",
        "plt.xlabel('x/a')\n",
        "plt.show()"
      ],
      "metadata": {
        "colab": {
          "base_uri": "https://localhost:8080/",
          "height": 236
        },
        "id": "OItEzvArgGhO",
        "outputId": "82d2e739-4864-4467-c554-c49bbb6e0142"
      },
      "execution_count": null,
      "outputs": [
        {
          "output_type": "display_data",
          "data": {
            "text/plain": [
              "<Figure size 432x216 with 1 Axes>"
            ],
            "image/png": "[encoded data removed]"
          },
          "metadata": {
            "needs_background": "light"
          }
        }
      ]
    }
  ]
}